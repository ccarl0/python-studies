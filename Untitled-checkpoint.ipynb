{
 "cells": [
  {
   "cell_type": "code",
   "execution_count": 1,
   "id": "a9f9ddca",
   "metadata": {},
   "outputs": [
    {
     "name": "stdout",
     "output_type": "stream",
     "text": [
      "Requirement already satisfied: matplotlib in c:\\users\\carlo\\anaconda3\\lib\\site-packages (3.3.4)\n",
      "Requirement already satisfied: pillow>=6.2.0 in c:\\users\\carlo\\anaconda3\\lib\\site-packages (from matplotlib) (8.2.0)\n",
      "Requirement already satisfied: cycler>=0.10 in c:\\users\\carlo\\anaconda3\\lib\\site-packages (from matplotlib) (0.10.0)\n",
      "Requirement already satisfied: pyparsing!=2.0.4,!=2.1.2,!=2.1.6,>=2.0.3 in c:\\users\\carlo\\anaconda3\\lib\\site-packages (from matplotlib) (2.4.7)\n",
      "Requirement already satisfied: numpy>=1.15 in c:\\users\\carlo\\anaconda3\\lib\\site-packages (from matplotlib) (1.20.1)\n",
      "Requirement already satisfied: kiwisolver>=1.0.1 in c:\\users\\carlo\\anaconda3\\lib\\site-packages (from matplotlib) (1.3.1)\n",
      "Requirement already satisfied: python-dateutil>=2.1 in c:\\users\\carlo\\anaconda3\\lib\\site-packages (from matplotlib) (2.8.1)\n",
      "Requirement already satisfied: six in c:\\users\\carlo\\anaconda3\\lib\\site-packages (from cycler>=0.10->matplotlib) (1.15.0)\n"
     ]
    }
   ],
   "source": [
    "!pip install matplotlib"
   ]
  },
  {
   "cell_type": "code",
   "execution_count": 1,
   "id": "bd7fa676",
   "metadata": {},
   "outputs": [],
   "source": [
    "import matplotlib.pyplot as plt\n",
    "import numpy as np"
   ]
  },
  {
   "cell_type": "code",
   "execution_count": 8,
   "id": "088fc7cc",
   "metadata": {},
   "outputs": [],
   "source": [
    "x_axis = np.array([i for i in range(100)])"
   ]
  },
  {
   "cell_type": "code",
   "execution_count": 9,
   "id": "4092b968",
   "metadata": {},
   "outputs": [],
   "source": [
    "y_axis = np.array([i**2 for i in range(len((x_axis)))])"
   ]
  },
  {
   "cell_type": "code",
   "execution_count": 10,
   "id": "b4af1f4f",
   "metadata": {},
   "outputs": [
    {
     "data": {
      "image/png": "[encoded data removed]",
      "text/plain": [
       "<Figure size 432x288 with 1 Axes>"
      ]
     },
     "metadata": {
      "needs_background": "light"
     },
     "output_type": "display_data"
    }
   ],
   "source": [
    "plt.plot(y_axis, x_axis)\n",
    "plt.show()"
   ]
  },
  {
   "cell_type": "code",
   "execution_count": 62,
   "id": "7e8e75a0",
   "metadata": {},
   "outputs": [],
   "source": [
    "def x3plus1(n):\n",
    "    \"\"\"\n",
    "    This funciton represents a mathematical problem.\n",
    "    Given a number, it will be devided by 2 if the number is even\n",
    "    it will be multiplied by 3 plus 1 \n",
    "    The problem is that whatever number you give, the sequence will always finish with \n",
    "    the sequence of 4,2,1\n",
    "    \"\"\"\n",
    "    global x,y\n",
    "    x,y = [], []\n",
    "    while True:   \n",
    "        print(n)\n",
    "        y.append(n)\n",
    "        if n % 2 == 0:\n",
    "            n /= 2\n",
    "        else:\n",
    "            n = n*3+1\n",
    "        if n == 1:\n",
    "            break\n",
    "    x = [i for i in range(len(y))]\n",
    "    \n",
    "    \n",
    "def x3plus1_info(n):\n",
    "    global x,y\n",
    "    x,y = [], []\n",
    "    while True:\n",
    "        y.append(n)\n",
    "        #print(n)\n",
    "        if n % 2 == 0:\n",
    "            n /= 2\n",
    "        else:\n",
    "            n = n*3+1\n",
    "        if n == 1:\n",
    "            break\n",
    "    x = [i for i in range(len(y))]\n",
    "    print(f\"Number of loops:{len(x)}\")\n",
    "    print(y[-5:])"
   ]
  },
  {
   "cell_type": "code",
   "execution_count": 74,
   "id": "52afad94",
   "metadata": {},
   "outputs": [
    {
     "name": "stdout",
     "output_type": "stream",
     "text": [
      "3\n",
      "10\n",
      "5.0\n",
      "16.0\n",
      "8.0\n",
      "4.0\n",
      "2.0\n"
     ]
    }
   ],
   "source": [
    "x3plus1(3)"
   ]
  },
  {
   "cell_type": "code",
   "execution_count": 75,
   "id": "f1fa2ceb",
   "metadata": {},
   "outputs": [
    {
     "data": {
      "image/png": "[encoded data removed]",
      "text/plain": [
       "<Figure size 432x288 with 1 Axes>"
      ]
     },
     "metadata": {
      "needs_background": "light"
     },
     "output_type": "display_data"
    }
   ],
   "source": [
    "plt.plot(x,y)\n",
    "plt.show()"
   ]
  },
  {
   "cell_type": "code",
   "execution_count": 77,
   "id": "bba5a150",
   "metadata": {},
   "outputs": [
    {
     "name": "stdout",
     "output_type": "stream",
     "text": [
      "Number of loops:5\n",
      "[5, 16, 8.0, 4.0, 2.0]\n"
     ]
    }
   ],
   "source": [
    "x3plus1_info(5)"
   ]
  },
  {
   "cell_type": "code",
   "execution_count": null,
   "id": "9919acd2",
   "metadata": {
    "scrolled": true
   },
   "outputs": [
    {
     "name": "stdout",
     "output_type": "stream",
     "text": [
      "1 requires 3 loops;\n",
      "3 requires 7 loops;\n",
      "6 requires 8 loops;\n",
      "7 requires 16 loops;\n",
      "9 requires 19 loops;\n",
      "18 requires 20 loops;\n",
      "19 requires 20 loops;\n",
      "25 requires 23 loops;\n",
      "27 requires 111 loops;\n",
      "54 requires 112 loops;\n",
      "55 requires 112 loops;\n",
      "73 requires 115 loops;\n",
      "97 requires 118 loops;\n",
      "129 requires 121 loops;\n",
      "171 requires 124 loops;\n",
      "231 requires 127 loops;\n",
      "235 requires 127 loops;\n",
      "313 requires 130 loops;\n",
      "327 requires 143 loops;\n",
      "649 requires 144 loops;\n",
      "654 requires 144 loops;\n",
      "655 requires 144 loops;\n",
      "667 requires 144 loops;\n",
      "703 requires 170 loops;\n",
      "871 requires 178 loops;\n",
      "1161 requires 181 loops;\n",
      "2223 requires 182 loops;\n",
      "2322 requires 182 loops;\n",
      "2323 requires 182 loops;\n",
      "2463 requires 208 loops;\n",
      "2919 requires 216 loops;\n",
      "3711 requires 237 loops;\n",
      "6171 requires 261 loops;\n",
      "10971 requires 267 loops;\n",
      "13255 requires 275 loops;\n",
      "17647 requires 278 loops;\n",
      "17673 requires 278 loops;\n",
      "23529 requires 281 loops;\n",
      "26623 requires 307 loops;\n",
      "34239 requires 310 loops;\n",
      "35497 requires 310 loops;\n",
      "35655 requires 323 loops;\n",
      "52527 requires 339 loops;\n",
      "77031 requires 350 loops;\n",
      "106239 requires 353 loops;\n",
      "142587 requires 374 loops;\n",
      "156159 requires 382 loops;\n",
      "216367 requires 385 loops;\n",
      "230631 requires 442 loops;\n",
      "410011 requires 448 loops;\n",
      "511935 requires 469 loops;\n",
      "626331 requires 508 loops;\n",
      "837799 requires 524 loops;\n",
      "1117065 requires 527 loops;\n",
      "1126015 requires 527 loops;\n",
      "1501353 requires 530 loops;\n",
      "1564063 requires 530 loops;\n",
      "1723519 requires 556 loops;\n",
      "2298025 requires 559 loops;\n",
      "3064033 requires 562 loops;\n",
      "3542887 requires 583 loops;\n",
      "3732423 requires 596 loops;\n",
      "5649499 requires 612 loops;\n",
      "6649279 requires 664 loops;\n",
      "8400511 requires 685 loops;\n",
      "11200681 requires 688 loops;\n",
      "14934241 requires 691 loops;\n",
      "15733191 requires 704 loops;\n",
      "31466382 requires 705 loops;\n",
      "31466383 requires 705 loops;\n",
      "36791535 requires 744 loops;\n"
     ]
    }
   ],
   "source": [
    "#finding the number the requires the more loops\n",
    "def x3plus1_loops(n):\n",
    "    i = 0\n",
    "    while True:\n",
    "        i += 1\n",
    "        if n % 2 == 0:\n",
    "            n /= 2\n",
    "        else:\n",
    "            n = n*3+1\n",
    "        if n == 1:\n",
    "            break\n",
    "    return i\n",
    "\n",
    "n = 0\n",
    "n_loop = 0\n",
    "number_most_loop = 0\n",
    "while True:\n",
    "    n += 1\n",
    "    new_n_loop = x3plus1_loops(n)\n",
    "    if new_n_loop > nloop:\n",
    "        n_loop = new_n_loop\n",
    "        number_most_loop = n\n",
    "        print(f\"{n} requires {n_loop} loops;\")\n",
    "    "
   ]
  },
  {
   "cell_type": "code",
   "execution_count": null,
   "id": "50edc56e",
   "metadata": {},
   "outputs": [],
   "source": []
  },
  {
   "cell_type": "code",
   "execution_count": null,
   "id": "cca7fac7",
   "metadata": {},
   "outputs": [],
   "source": []
  }
 ],
 "metadata": {
  "kernelspec": {
   "display_name": "Data",
   "language": "python",
   "name": "data"
  },
  "language_info": {
   "codemirror_mode": {
    "name": "ipython",
    "version": 3
   },
   "file_extension": ".py",
   "mimetype": "text/x-python",
   "name": "python",
   "nbconvert_exporter": "python",
   "pygments_lexer": "ipython3",
   "version": "3.7.9"
  }
 },
 "nbformat": 4,
 "nbformat_minor": 5
}
